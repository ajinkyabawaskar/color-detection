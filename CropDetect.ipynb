{
 "cells": [
  {
   "cell_type": "code",
   "execution_count": 34,
   "metadata": {},
   "outputs": [],
   "source": [
    "from sklearn.cluster import KMeans\n",
    "import matplotlib.pyplot as plt\n",
    "import numpy as np\n",
    "import cv2\n",
    "from collections import Counter\n",
    "from skimage.color import rgb2lab, deltaE_cie76, lab2rgb\n",
    "import os\n",
    "import json\n",
    "\n",
    "def RGB2HEX(color):\n",
    "    return \"#{:02x}{:02x}{:02x}\".format(int(color[0]), int(color[1]), int(color[2]))\n",
    "\n",
    "def get_image(image_path):\n",
    "    image = cv2.imread(image_path)\n",
    "    image = cv2.cvtColor(image, cv2.COLOR_BGR2RGB)\n",
    "    return image\n",
    "\n",
    "def getclf(number_of_colors):\n",
    "    clf = KMeans(n_clusters=number_of_colors)\n",
    "    return clf\n",
    "\n",
    "def getLabels(clf, image):\n",
    "    modified_image = cv2.resize(image, (600, 400), interpolation=cv2.INTER_AREA)\n",
    "    modified_image = modified_image.reshape(modified_image.shape[0] * modified_image.shape[1], 3)\n",
    "    labels = clf.fit_predict(modified_image)\n",
    "    return labels\n",
    "\n",
    "def get_hex_colors(labels, clf):\n",
    "    counts = Counter(labels)\n",
    "    center_colors = clf.cluster_centers_\n",
    "    ordered_colors = [center_colors[i] for i in counts.keys()]\n",
    "    hex_colors = [RGB2HEX(ordered_colors[i]) for i in counts.keys()]\n",
    "    return hex_colors\n",
    "\n",
    "def get_rgb_colors(labels, clf):\n",
    "    counts = Counter(labels)\n",
    "    center_colors = clf.cluster_centers_\n",
    "    ordered_colors = [center_colors[i] for i in counts.keys()]\n",
    "    rgb_colors = [ordered_colors[i] for i in counts.keys()]\n",
    "    return rgb_colors\n",
    "\n",
    "\n",
    "def plotPie(counts, hex_colors):\n",
    "    plt.figure(figsize=(8, 6))\n",
    "    plt.pie(counts.values(), labels=hex_colors, colors=hex_colors)\n",
    "    \n",
    "def init(image_path, clusters, mode, showPie, writeToJson):\n",
    "    image = get_image(image_path)\n",
    "    clf = getclf(clusters)\n",
    "    labels = getLabels(clf, image)\n",
    "    hex_colors = get_hex_colors(labels, clf)\n",
    "    if(mode != \"rgb\"):\n",
    "        colors = hex_colors\n",
    "    if(mode == \"rgb\"):\n",
    "        colors = get_rgb_colors(labels, clf)\n",
    "        print(colors)\n",
    "    if(showPie):\n",
    "        plt.imshow(image)\n",
    "        plotPie(Counter(getLabels(clf, image)), hex_colors)\n",
    "    if(writeToJson):\n",
    "        json_object = json.dumps(hex_colors, indent = 4)\n",
    "        with open(\"colors.json\", \"w\") as outfile: \n",
    "            outfile.write(json_object)\n",
    "        with open('colors.json', 'r') as openfile: \n",
    "            json_object = json.load(openfile) \n",
    "            print(json_object) \n",
    "            \n",
    "def modifyImage(image):\n",
    "    modified_image = cv2.resize(image, (600, 400), interpolation=cv2.INTER_AREA)\n",
    "    return modified_image\n",
    "\n",
    "# def compareColor(image1_path):\n",
    "def compareColor():\n",
    "\n",
    "#     image1 = get_image(image1_path)\n",
    "#     modifyImage1 = modifyImage(image1) \n",
    "    \n",
    "    im1 = [91.15341554,  4.9825107 ,  4.99780469]\n",
    "    im11 = np.uint8(np.asarray([[im1]]))\n",
    "    im12 = modifyImage(im11)\n",
    "    \n",
    "    im2 = [223.03739605,   2.74173877,  19.82270475]\n",
    "    im22 = np.uint8(np.asarray([[im2]]))\n",
    "    im23 = modifyImage(im22)    \n",
    "    compared = deltaE_cie76(rgb2lab(im12), rgb2lab(im23))    \n",
    "    plt.imshow(compared)\n",
    "    plt.imshow(im)"
   ]
  },
  {
   "cell_type": "code",
   "execution_count": 35,
   "metadata": {},
   "outputs": [
    {
     "data": {
      "image/png": "[encoded data removed]",
      "text/plain": [
       "<Figure size 432x288 with 1 Axes>"
      ]
     },
     "metadata": {
      "needs_background": "light"
     },
     "output_type": "display_data"
    }
   ],
   "source": [
    "# init('samta.jpg', 4, \"rgb\", True, True)\n",
    "# compareColor('crops.jpg')\n",
    "compareColor()"
   ]
  },
  {
   "cell_type": "code",
   "execution_count": null,
   "metadata": {},
   "outputs": [],
   "source": []
  }
 ],
 "metadata": {
  "kernelspec": {
   "display_name": "Python 3",
   "language": "python",
   "name": "python3"
  },
  "language_info": {
   "codemirror_mode": {
    "name": "ipython",
    "version": 3
   },
   "file_extension": ".py",
   "mimetype": "text/x-python",
   "name": "python",
   "nbconvert_exporter": "python",
   "pygments_lexer": "ipython3",
   "version": "3.7.4"
  }
 },
 "nbformat": 4,
 "nbformat_minor": 2
}
